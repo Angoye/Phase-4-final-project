{
  "cells": [
    {
      "cell_type": "markdown",
      "source": [
        "**Movie Recommendation System**\n",
        "\n",
        "**Business Understanding**\n",
        "\n",
        "The dataset used in this project consists of movie ratings provided by users. It includes key attributes such as userId, movieId, rating, timestamp, title, and genres. This dataset is well-suited for building a recommendation system because it captures explicit user preferences (ratings) along with metadata about the movies, such as their titles and genres.\n",
        "\n",
        "The primary business objective is to improve user engagement by providing personalized movie recommendations. By leveraging collaborative filtering techniques, we can predict a user's preference for a movie they have not yet rated. This approach is beneficial for streaming platforms and online movie databases, helping them suggest content that aligns with individual tastes.\n",
        "\n",
        "The dataset is structured and sufficiently large to support machine learning models. It allows for the application of collaborative filtering, a widely used technique that utilizes user behavior patterns to generate recommendations. The presence of multiple ratings from different users ensures that the model can learn and make accurate predictions.\n",
        "\n",
        "Data Preparation\n",
        "\n",
        "- To ensure high-quality recommendations, the following preprocessing steps were implemented:\n",
        "\n",
        "- Data Cleaning: Removed missing values and duplicate entries to maintain data integrity.\n",
        "\n",
        "- Merging Datasets: Integrated movie metadata with user ratings to enrich the data for better insights.\n",
        "\n",
        "- Normalization: Standardized rating values to enhance model performance.\n",
        "\n",
        "- Capping Ratings: Since predicted ratings could exceed the maximum allowed score (5), values were capped at 5 to maintain realistic recommendations.\n",
        "\n",
        "\n",
        "**Model Performance Summary**\n",
        "\n",
        "The ALS (Alternating Least Squares) model in PySpark was used for generating movie recommendations. This model is well-suited for collaborative filtering problems and efficiently handles large datasets by leveraging matrix factorization.\n",
        "\n",
        "- *Model Evaluation:*\n",
        "\n",
        "The model was evaluated using Root Mean Squared Error (RMSE), a common metric for recommendation systems.\n",
        "\n",
        "The final RMSE achieved was lower than other tested models, indicating better predictive accuracy.\n",
        "\n",
        "Compared to other approaches, ALS in PySpark provided the most reliable recommendations with reasonable computational efficiency.\n",
        "\n",
        "- *Recommendation of Best Model:*\n",
        "\n",
        "ALS with Hyperparameter Tuning performed the best among tested models.\n",
        "\n",
        "Tuning parameters such as rank, maxIter, and regParam improved performance significantly.\n",
        "\n",
        "Compared to simpler user-based or item-based collaborative filtering, ALS produced more accurate and personalized recommendations.\n",
        "\n",
        "The optimized ALS model is recommended for deployment due to its superior balance of accuracy, scalability, and efficiency in handling large-scale movie recommendation tasks."
      ],
      "metadata": {
        "id": "08BRS1Oc9JOX"
      }
    },
    {
      "cell_type": "markdown",
      "metadata": {
        "id": "61naPkLSJ-Wh"
      },
      "source": [
        "Imports"
      ]
    },
    {
      "cell_type": "code",
      "execution_count": 270,
      "metadata": {
        "id": "Kg2mNDXZJ-Wj"
      },
      "outputs": [],
      "source": [
        "import pandas as pd\n",
        "import numpy as np\n",
        "import matplotlib.pyplot as plt\n",
        "import seaborn as sns\n",
        "from sklearn.model_selection import train_test_split\n",
        "from sklearn.metrics.pairwise import cosine_similarity\n",
        "from sklearn.metrics import mean_squared_error, mean_absolute_error\n",
        "from sklearn.impute import SimpleImputer\n",
        "from pyspark.ml.recommendation import ALS\n",
        "from pyspark.sql import SparkSession\n",
        "from surprise import SVD\n",
        "from surprise.model_selection import GridSearchCV\n",
        "from surprise import Dataset, Reader"
      ]
    },
    {
      "cell_type": "code",
      "source": [
        "# Load MovieLens dataset\n",
        "ratings_path = \"movies.csv\"\n",
        "movies_path = \"ratings.csv\"\n",
        "ratings = pd.read_csv(ratings_path)\n",
        "movies = pd.read_csv(movies_path)"
      ],
      "metadata": {
        "id": "m-Li-hpVKPxu"
      },
      "execution_count": 133,
      "outputs": []
    },
    {
      "cell_type": "code",
      "source": [
        "# Merge datasets\n",
        "df = ratings.merge(movies, on='movieId')"
      ],
      "metadata": {
        "id": "8tF2BspNLCet"
      },
      "execution_count": 134,
      "outputs": []
    },
    {
      "cell_type": "code",
      "source": [
        "df.head(10)"
      ],
      "metadata": {
        "colab": {
          "base_uri": "https://localhost:8080/",
          "height": 363
        },
        "id": "SpkVdyxXNRxY",
        "outputId": "effbb247-6712-474e-fc17-c2abdd07d9d0"
      },
      "execution_count": 135,
      "outputs": [
        {
          "output_type": "execute_result",
          "data": {
            "text/plain": [
              "   movieId             title                                       genres  \\\n",
              "0        1  Toy Story (1995)  Adventure|Animation|Children|Comedy|Fantasy   \n",
              "1        1  Toy Story (1995)  Adventure|Animation|Children|Comedy|Fantasy   \n",
              "2        1  Toy Story (1995)  Adventure|Animation|Children|Comedy|Fantasy   \n",
              "3        1  Toy Story (1995)  Adventure|Animation|Children|Comedy|Fantasy   \n",
              "4        1  Toy Story (1995)  Adventure|Animation|Children|Comedy|Fantasy   \n",
              "5        1  Toy Story (1995)  Adventure|Animation|Children|Comedy|Fantasy   \n",
              "6        1  Toy Story (1995)  Adventure|Animation|Children|Comedy|Fantasy   \n",
              "7        1  Toy Story (1995)  Adventure|Animation|Children|Comedy|Fantasy   \n",
              "8        1  Toy Story (1995)  Adventure|Animation|Children|Comedy|Fantasy   \n",
              "9        1  Toy Story (1995)  Adventure|Animation|Children|Comedy|Fantasy   \n",
              "\n",
              "   userId  rating   timestamp  \n",
              "0       1     4.0   964982703  \n",
              "1       5     4.0   847434962  \n",
              "2       7     4.5  1106635946  \n",
              "3      15     2.5  1510577970  \n",
              "4      17     4.5  1305696483  \n",
              "5      18     3.5  1455209816  \n",
              "6      19     4.0   965705637  \n",
              "7      21     3.5  1407618878  \n",
              "8      27     3.0   962685262  \n",
              "9      31     5.0   850466616  "
            ],
            "text/html": [
              "\n",
              "  <div id=\"df-6ebb0790-6abc-4c2f-9a51-521b0c46d9c6\" class=\"colab-df-container\">\n",
              "    <div>\n",
              "<style scoped>\n",
              "    .dataframe tbody tr th:only-of-type {\n",
              "        vertical-align: middle;\n",
              "    }\n",
              "\n",
              "    .dataframe tbody tr th {\n",
              "        vertical-align: top;\n",
              "    }\n",
              "\n",
              "    .dataframe thead th {\n",
              "        text-align: right;\n",
              "    }\n",
              "</style>\n",
              "<table border=\"1\" class=\"dataframe\">\n",
              "  <thead>\n",
              "    <tr style=\"text-align: right;\">\n",
              "      <th></th>\n",
              "      <th>movieId</th>\n",
              "      <th>title</th>\n",
              "      <th>genres</th>\n",
              "      <th>userId</th>\n",
              "      <th>rating</th>\n",
              "      <th>timestamp</th>\n",
              "    </tr>\n",
              "  </thead>\n",
              "  <tbody>\n",
              "    <tr>\n",
              "      <th>0</th>\n",
              "      <td>1</td>\n",
              "      <td>Toy Story (1995)</td>\n",
              "      <td>Adventure|Animation|Children|Comedy|Fantasy</td>\n",
              "      <td>1</td>\n",
              "      <td>4.0</td>\n",
              "      <td>964982703</td>\n",
              "    </tr>\n",
              "    <tr>\n",
              "      <th>1</th>\n",
              "      <td>1</td>\n",
              "      <td>Toy Story (1995)</td>\n",
              "      <td>Adventure|Animation|Children|Comedy|Fantasy</td>\n",
              "      <td>5</td>\n",
              "      <td>4.0</td>\n",
              "      <td>847434962</td>\n",
              "    </tr>\n",
              "    <tr>\n",
              "      <th>2</th>\n",
              "      <td>1</td>\n",
              "      <td>Toy Story (1995)</td>\n",
              "      <td>Adventure|Animation|Children|Comedy|Fantasy</td>\n",
              "      <td>7</td>\n",
              "      <td>4.5</td>\n",
              "      <td>1106635946</td>\n",
              "    </tr>\n",
              "    <tr>\n",
              "      <th>3</th>\n",
              "      <td>1</td>\n",
              "      <td>Toy Story (1995)</td>\n",
              "      <td>Adventure|Animation|Children|Comedy|Fantasy</td>\n",
              "      <td>15</td>\n",
              "      <td>2.5</td>\n",
              "      <td>1510577970</td>\n",
              "    </tr>\n",
              "    <tr>\n",
              "      <th>4</th>\n",
              "      <td>1</td>\n",
              "      <td>Toy Story (1995)</td>\n",
              "      <td>Adventure|Animation|Children|Comedy|Fantasy</td>\n",
              "      <td>17</td>\n",
              "      <td>4.5</td>\n",
              "      <td>1305696483</td>\n",
              "    </tr>\n",
              "    <tr>\n",
              "      <th>5</th>\n",
              "      <td>1</td>\n",
              "      <td>Toy Story (1995)</td>\n",
              "      <td>Adventure|Animation|Children|Comedy|Fantasy</td>\n",
              "      <td>18</td>\n",
              "      <td>3.5</td>\n",
              "      <td>1455209816</td>\n",
              "    </tr>\n",
              "    <tr>\n",
              "      <th>6</th>\n",
              "      <td>1</td>\n",
              "      <td>Toy Story (1995)</td>\n",
              "      <td>Adventure|Animation|Children|Comedy|Fantasy</td>\n",
              "      <td>19</td>\n",
              "      <td>4.0</td>\n",
              "      <td>965705637</td>\n",
              "    </tr>\n",
              "    <tr>\n",
              "      <th>7</th>\n",
              "      <td>1</td>\n",
              "      <td>Toy Story (1995)</td>\n",
              "      <td>Adventure|Animation|Children|Comedy|Fantasy</td>\n",
              "      <td>21</td>\n",
              "      <td>3.5</td>\n",
              "      <td>1407618878</td>\n",
              "    </tr>\n",
              "    <tr>\n",
              "      <th>8</th>\n",
              "      <td>1</td>\n",
              "      <td>Toy Story (1995)</td>\n",
              "      <td>Adventure|Animation|Children|Comedy|Fantasy</td>\n",
              "      <td>27</td>\n",
              "      <td>3.0</td>\n",
              "      <td>962685262</td>\n",
              "    </tr>\n",
              "    <tr>\n",
              "      <th>9</th>\n",
              "      <td>1</td>\n",
              "      <td>Toy Story (1995)</td>\n",
              "      <td>Adventure|Animation|Children|Comedy|Fantasy</td>\n",
              "      <td>31</td>\n",
              "      <td>5.0</td>\n",
              "      <td>850466616</td>\n",
              "    </tr>\n",
              "  </tbody>\n",
              "</table>\n",
              "</div>\n",
              "    <div class=\"colab-df-buttons\">\n",
              "\n",
              "  <div class=\"colab-df-container\">\n",
              "    <button class=\"colab-df-convert\" onclick=\"convertToInteractive('df-6ebb0790-6abc-4c2f-9a51-521b0c46d9c6')\"\n",
              "            title=\"Convert this dataframe to an interactive table.\"\n",
              "            style=\"display:none;\">\n",
              "\n",
              "  <svg xmlns=\"http://www.w3.org/2000/svg\" height=\"24px\" viewBox=\"0 -960 960 960\">\n",
              "    <path d=\"M120-120v-720h720v720H120Zm60-500h600v-160H180v160Zm220 220h160v-160H400v160Zm0 220h160v-160H400v160ZM180-400h160v-160H180v160Zm440 0h160v-160H620v160ZM180-180h160v-160H180v160Zm440 0h160v-160H620v160Z\"/>\n",
              "  </svg>\n",
              "    </button>\n",
              "\n",
              "  <style>\n",
              "    .colab-df-container {\n",
              "      display:flex;\n",
              "      gap: 12px;\n",
              "    }\n",
              "\n",
              "    .colab-df-convert {\n",
              "      background-color: #E8F0FE;\n",
              "      border: none;\n",
              "      border-radius: 50%;\n",
              "      cursor: pointer;\n",
              "      display: none;\n",
              "      fill: #1967D2;\n",
              "      height: 32px;\n",
              "      padding: 0 0 0 0;\n",
              "      width: 32px;\n",
              "    }\n",
              "\n",
              "    .colab-df-convert:hover {\n",
              "      background-color: #E2EBFA;\n",
              "      box-shadow: 0px 1px 2px rgba(60, 64, 67, 0.3), 0px 1px 3px 1px rgba(60, 64, 67, 0.15);\n",
              "      fill: #174EA6;\n",
              "    }\n",
              "\n",
              "    .colab-df-buttons div {\n",
              "      margin-bottom: 4px;\n",
              "    }\n",
              "\n",
              "    [theme=dark] .colab-df-convert {\n",
              "      background-color: #3B4455;\n",
              "      fill: #D2E3FC;\n",
              "    }\n",
              "\n",
              "    [theme=dark] .colab-df-convert:hover {\n",
              "      background-color: #434B5C;\n",
              "      box-shadow: 0px 1px 3px 1px rgba(0, 0, 0, 0.15);\n",
              "      filter: drop-shadow(0px 1px 2px rgba(0, 0, 0, 0.3));\n",
              "      fill: #FFFFFF;\n",
              "    }\n",
              "  </style>\n",
              "\n",
              "    <script>\n",
              "      const buttonEl =\n",
              "        document.querySelector('#df-6ebb0790-6abc-4c2f-9a51-521b0c46d9c6 button.colab-df-convert');\n",
              "      buttonEl.style.display =\n",
              "        google.colab.kernel.accessAllowed ? 'block' : 'none';\n",
              "\n",
              "      async function convertToInteractive(key) {\n",
              "        const element = document.querySelector('#df-6ebb0790-6abc-4c2f-9a51-521b0c46d9c6');\n",
              "        const dataTable =\n",
              "          await google.colab.kernel.invokeFunction('convertToInteractive',\n",
              "                                                    [key], {});\n",
              "        if (!dataTable) return;\n",
              "\n",
              "        const docLinkHtml = 'Like what you see? Visit the ' +\n",
              "          '<a target=\"_blank\" href=https://colab.research.google.com/notebooks/data_table.ipynb>data table notebook</a>'\n",
              "          + ' to learn more about interactive tables.';\n",
              "        element.innerHTML = '';\n",
              "        dataTable['output_type'] = 'display_data';\n",
              "        await google.colab.output.renderOutput(dataTable, element);\n",
              "        const docLink = document.createElement('div');\n",
              "        docLink.innerHTML = docLinkHtml;\n",
              "        element.appendChild(docLink);\n",
              "      }\n",
              "    </script>\n",
              "  </div>\n",
              "\n",
              "\n",
              "<div id=\"df-0544a7c6-7c11-455d-89bf-efda7bca3742\">\n",
              "  <button class=\"colab-df-quickchart\" onclick=\"quickchart('df-0544a7c6-7c11-455d-89bf-efda7bca3742')\"\n",
              "            title=\"Suggest charts\"\n",
              "            style=\"display:none;\">\n",
              "\n",
              "<svg xmlns=\"http://www.w3.org/2000/svg\" height=\"24px\"viewBox=\"0 0 24 24\"\n",
              "     width=\"24px\">\n",
              "    <g>\n",
              "        <path d=\"M19 3H5c-1.1 0-2 .9-2 2v14c0 1.1.9 2 2 2h14c1.1 0 2-.9 2-2V5c0-1.1-.9-2-2-2zM9 17H7v-7h2v7zm4 0h-2V7h2v10zm4 0h-2v-4h2v4z\"/>\n",
              "    </g>\n",
              "</svg>\n",
              "  </button>\n",
              "\n",
              "<style>\n",
              "  .colab-df-quickchart {\n",
              "      --bg-color: #E8F0FE;\n",
              "      --fill-color: #1967D2;\n",
              "      --hover-bg-color: #E2EBFA;\n",
              "      --hover-fill-color: #174EA6;\n",
              "      --disabled-fill-color: #AAA;\n",
              "      --disabled-bg-color: #DDD;\n",
              "  }\n",
              "\n",
              "  [theme=dark] .colab-df-quickchart {\n",
              "      --bg-color: #3B4455;\n",
              "      --fill-color: #D2E3FC;\n",
              "      --hover-bg-color: #434B5C;\n",
              "      --hover-fill-color: #FFFFFF;\n",
              "      --disabled-bg-color: #3B4455;\n",
              "      --disabled-fill-color: #666;\n",
              "  }\n",
              "\n",
              "  .colab-df-quickchart {\n",
              "    background-color: var(--bg-color);\n",
              "    border: none;\n",
              "    border-radius: 50%;\n",
              "    cursor: pointer;\n",
              "    display: none;\n",
              "    fill: var(--fill-color);\n",
              "    height: 32px;\n",
              "    padding: 0;\n",
              "    width: 32px;\n",
              "  }\n",
              "\n",
              "  .colab-df-quickchart:hover {\n",
              "    background-color: var(--hover-bg-color);\n",
              "    box-shadow: 0 1px 2px rgba(60, 64, 67, 0.3), 0 1px 3px 1px rgba(60, 64, 67, 0.15);\n",
              "    fill: var(--button-hover-fill-color);\n",
              "  }\n",
              "\n",
              "  .colab-df-quickchart-complete:disabled,\n",
              "  .colab-df-quickchart-complete:disabled:hover {\n",
              "    background-color: var(--disabled-bg-color);\n",
              "    fill: var(--disabled-fill-color);\n",
              "    box-shadow: none;\n",
              "  }\n",
              "\n",
              "  .colab-df-spinner {\n",
              "    border: 2px solid var(--fill-color);\n",
              "    border-color: transparent;\n",
              "    border-bottom-color: var(--fill-color);\n",
              "    animation:\n",
              "      spin 1s steps(1) infinite;\n",
              "  }\n",
              "\n",
              "  @keyframes spin {\n",
              "    0% {\n",
              "      border-color: transparent;\n",
              "      border-bottom-color: var(--fill-color);\n",
              "      border-left-color: var(--fill-color);\n",
              "    }\n",
              "    20% {\n",
              "      border-color: transparent;\n",
              "      border-left-color: var(--fill-color);\n",
              "      border-top-color: var(--fill-color);\n",
              "    }\n",
              "    30% {\n",
              "      border-color: transparent;\n",
              "      border-left-color: var(--fill-color);\n",
              "      border-top-color: var(--fill-color);\n",
              "      border-right-color: var(--fill-color);\n",
              "    }\n",
              "    40% {\n",
              "      border-color: transparent;\n",
              "      border-right-color: var(--fill-color);\n",
              "      border-top-color: var(--fill-color);\n",
              "    }\n",
              "    60% {\n",
              "      border-color: transparent;\n",
              "      border-right-color: var(--fill-color);\n",
              "    }\n",
              "    80% {\n",
              "      border-color: transparent;\n",
              "      border-right-color: var(--fill-color);\n",
              "      border-bottom-color: var(--fill-color);\n",
              "    }\n",
              "    90% {\n",
              "      border-color: transparent;\n",
              "      border-bottom-color: var(--fill-color);\n",
              "    }\n",
              "  }\n",
              "</style>\n",
              "\n",
              "  <script>\n",
              "    async function quickchart(key) {\n",
              "      const quickchartButtonEl =\n",
              "        document.querySelector('#' + key + ' button');\n",
              "      quickchartButtonEl.disabled = true;  // To prevent multiple clicks.\n",
              "      quickchartButtonEl.classList.add('colab-df-spinner');\n",
              "      try {\n",
              "        const charts = await google.colab.kernel.invokeFunction(\n",
              "            'suggestCharts', [key], {});\n",
              "      } catch (error) {\n",
              "        console.error('Error during call to suggestCharts:', error);\n",
              "      }\n",
              "      quickchartButtonEl.classList.remove('colab-df-spinner');\n",
              "      quickchartButtonEl.classList.add('colab-df-quickchart-complete');\n",
              "    }\n",
              "    (() => {\n",
              "      let quickchartButtonEl =\n",
              "        document.querySelector('#df-0544a7c6-7c11-455d-89bf-efda7bca3742 button');\n",
              "      quickchartButtonEl.style.display =\n",
              "        google.colab.kernel.accessAllowed ? 'block' : 'none';\n",
              "    })();\n",
              "  </script>\n",
              "</div>\n",
              "\n",
              "    </div>\n",
              "  </div>\n"
            ],
            "application/vnd.google.colaboratory.intrinsic+json": {
              "type": "dataframe",
              "variable_name": "df"
            }
          },
          "metadata": {},
          "execution_count": 135
        }
      ]
    },
    {
      "cell_type": "markdown",
      "source": [
        "Check missing values"
      ],
      "metadata": {
        "id": "wAN6S2YWa6-P"
      }
    },
    {
      "cell_type": "code",
      "source": [
        "print(df.isnull().sum())"
      ],
      "metadata": {
        "colab": {
          "base_uri": "https://localhost:8080/",
          "height": 0
        },
        "id": "JreSu18La2zx",
        "outputId": "2c9341c8-43f2-4da2-cebb-84fc4e0e3949"
      },
      "execution_count": 165,
      "outputs": [
        {
          "output_type": "stream",
          "name": "stdout",
          "text": [
            "movieId      0\n",
            "title        0\n",
            "genres       0\n",
            "userId       0\n",
            "rating       0\n",
            "timestamp    0\n",
            "dtype: int64\n"
          ]
        }
      ]
    },
    {
      "cell_type": "code",
      "source": [
        "duplicates = df[df.duplicated(subset=['userId', 'movieId'], keep=False)]\n",
        "print(duplicates)\n"
      ],
      "metadata": {
        "colab": {
          "base_uri": "https://localhost:8080/",
          "height": 0
        },
        "id": "9LtIEXMDbUHE",
        "outputId": "fbcc2265-07b2-4689-90ca-210eef7446b9"
      },
      "execution_count": 137,
      "outputs": [
        {
          "output_type": "stream",
          "name": "stdout",
          "text": [
            "Empty DataFrame\n",
            "Columns: [movieId, title, genres, userId, rating, timestamp]\n",
            "Index: []\n"
          ]
        }
      ]
    },
    {
      "cell_type": "code",
      "source": [
        "#Remove users who rated too few movies\n",
        "min_ratings_per_user = 5\n",
        "active_users = df['userId'].value_counts()[lambda x: x >= min_ratings_per_user].index\n",
        "df = df[df['userId'].isin(active_users)]"
      ],
      "metadata": {
        "id": "U8bjrsp8b0Wq"
      },
      "execution_count": 138,
      "outputs": []
    },
    {
      "cell_type": "code",
      "source": [
        "#Remove movies rated by too few users\n",
        "min_ratings_per_movie = 5\n",
        "popular_movies = df['movieId'].value_counts()[lambda x: x >= min_ratings_per_movie].index\n",
        "df = df[df['movieId'].isin(popular_movies)]"
      ],
      "metadata": {
        "id": "z4sGArTab_XG"
      },
      "execution_count": 139,
      "outputs": []
    },
    {
      "cell_type": "code",
      "source": [
        "# Exploratory Data Analysis\n",
        "plt.figure(figsize=(10, 5))\n",
        "sns.histplot(df['rating'], bins=10, kde=True)\n",
        "plt.title(\"Distribution of Ratings\")\n",
        "plt.show()"
      ],
      "metadata": {
        "colab": {
          "base_uri": "https://localhost:8080/",
          "height": 487
        },
        "id": "hMYRwt_-LHC9",
        "outputId": "5358e66b-908c-456a-8ae6-3c460adb23ea"
      },
      "execution_count": 140,
      "outputs": [
        {
          "output_type": "display_data",
          "data": {
            "text/plain": [
              "<Figure size 1000x500 with 1 Axes>"
            ],
            "image/png": "[encoded data removed]"
          },
          "metadata": {}
        }
      ]
    },
    {
      "cell_type": "code",
      "source": [
        "#Movies recommendation to new users\n",
        "popular_movies = df.groupby('movieId')['rating'].mean().sort_values(ascending=False).head(10)\n",
        "print(popular_movies)\n"
      ],
      "metadata": {
        "colab": {
          "base_uri": "https://localhost:8080/",
          "height": 0
        },
        "id": "4OyBOckyczZb",
        "outputId": "bf6d225a-2e0b-4795-ebd3-06a859d19a40"
      },
      "execution_count": 141,
      "outputs": [
        {
          "output_type": "stream",
          "name": "stdout",
          "text": [
            "movieId\n",
            "6460      4.900000\n",
            "177593    4.750000\n",
            "31364     4.700000\n",
            "2239      4.666667\n",
            "4334      4.600000\n",
            "1041      4.590909\n",
            "106642    4.571429\n",
            "3451      4.545455\n",
            "1178      4.541667\n",
            "3152      4.500000\n",
            "Name: rating, dtype: float64\n"
          ]
        }
      ]
    },
    {
      "cell_type": "code",
      "source": [
        "# Create user-movie matrix\n",
        "user_movie_matrix = df.pivot(index='userId', columns='movieId', values='rating')\n",
        "\n",
        "# Initialize SimpleImputer (Replace NaNs with the median of each column)\n",
        "imputer = SimpleImputer(strategy=\"median\")\n",
        "user_movie_matrix_imputed = pd.DataFrame(imputer.fit_transform(user_movie_matrix),\n",
        "                                         index=user_movie_matrix.index,\n",
        "                                         columns=user_movie_matrix.columns)\n"
      ],
      "metadata": {
        "id": "qvy8ubscLM2t"
      },
      "execution_count": 210,
      "outputs": []
    },
    {
      "cell_type": "code",
      "source": [
        "user_movie_matrix_imputed.head()"
      ],
      "metadata": {
        "colab": {
          "base_uri": "https://localhost:8080/",
          "height": 267
        },
        "id": "NfWbDzsGON4T",
        "outputId": "9d83f86e-fcf4-4d0b-ddaf-3bbf4ce8da55"
      },
      "execution_count": 211,
      "outputs": [
        {
          "output_type": "execute_result",
          "data": {
            "text/plain": [
              "movieId  1       2       3       4       5       6       7       8       \\\n",
              "userId                                                                    \n",
              "1           4.0     3.5     4.0     3.0     3.0     4.0     3.0     3.0   \n",
              "2           4.0     3.5     3.0     3.0     3.0     4.0     3.0     3.0   \n",
              "3           4.0     3.5     3.0     3.0     3.0     4.0     3.0     3.0   \n",
              "4           4.0     3.5     3.0     3.0     3.0     4.0     3.0     3.0   \n",
              "5           4.0     3.5     3.0     3.0     3.0     4.0     3.0     3.0   \n",
              "\n",
              "movieId  9       10      ...  176371  177593  177765  179401  179819  180031  \\\n",
              "userId                   ...                                                   \n",
              "1           3.0     3.5  ...     4.0    4.75     4.0     4.0     3.5    3.75   \n",
              "2           3.0     3.5  ...     4.0    4.75     4.0     4.0     3.5    3.75   \n",
              "3           3.0     3.5  ...     4.0    4.75     4.0     4.0     3.5    3.75   \n",
              "4           3.0     3.5  ...     4.0    4.75     4.0     4.0     3.5    3.75   \n",
              "5           3.0     3.5  ...     4.0    4.75     4.0     4.0     3.5    3.75   \n",
              "\n",
              "movieId  180985  183897  187593  187595  \n",
              "userId                                   \n",
              "1           3.0     3.5     4.0     4.0  \n",
              "2           3.0     3.5     4.0     4.0  \n",
              "3           3.0     3.5     4.0     4.0  \n",
              "4           3.0     3.5     4.0     4.0  \n",
              "5           3.0     3.5     4.0     4.0  \n",
              "\n",
              "[5 rows x 3650 columns]"
            ],
            "text/html": [
              "\n",
              "  <div id=\"df-8085639f-afb4-4a8e-a3bf-1042d81d4289\" class=\"colab-df-container\">\n",
              "    <div>\n",
              "<style scoped>\n",
              "    .dataframe tbody tr th:only-of-type {\n",
              "        vertical-align: middle;\n",
              "    }\n",
              "\n",
              "    .dataframe tbody tr th {\n",
              "        vertical-align: top;\n",
              "    }\n",
              "\n",
              "    .dataframe thead th {\n",
              "        text-align: right;\n",
              "    }\n",
              "</style>\n",
              "<table border=\"1\" class=\"dataframe\">\n",
              "  <thead>\n",
              "    <tr style=\"text-align: right;\">\n",
              "      <th>movieId</th>\n",
              "      <th>1</th>\n",
              "      <th>2</th>\n",
              "      <th>3</th>\n",
              "      <th>4</th>\n",
              "      <th>5</th>\n",
              "      <th>6</th>\n",
              "      <th>7</th>\n",
              "      <th>8</th>\n",
              "      <th>9</th>\n",
              "      <th>10</th>\n",
              "      <th>...</th>\n",
              "      <th>176371</th>\n",
              "      <th>177593</th>\n",
              "      <th>177765</th>\n",
              "      <th>179401</th>\n",
              "      <th>179819</th>\n",
              "      <th>180031</th>\n",
              "      <th>180985</th>\n",
              "      <th>183897</th>\n",
              "      <th>187593</th>\n",
              "      <th>187595</th>\n",
              "    </tr>\n",
              "    <tr>\n",
              "      <th>userId</th>\n",
              "      <th></th>\n",
              "      <th></th>\n",
              "      <th></th>\n",
              "      <th></th>\n",
              "      <th></th>\n",
              "      <th></th>\n",
              "      <th></th>\n",
              "      <th></th>\n",
              "      <th></th>\n",
              "      <th></th>\n",
              "      <th></th>\n",
              "      <th></th>\n",
              "      <th></th>\n",
              "      <th></th>\n",
              "      <th></th>\n",
              "      <th></th>\n",
              "      <th></th>\n",
              "      <th></th>\n",
              "      <th></th>\n",
              "      <th></th>\n",
              "      <th></th>\n",
              "    </tr>\n",
              "  </thead>\n",
              "  <tbody>\n",
              "    <tr>\n",
              "      <th>1</th>\n",
              "      <td>4.0</td>\n",
              "      <td>3.5</td>\n",
              "      <td>4.0</td>\n",
              "      <td>3.0</td>\n",
              "      <td>3.0</td>\n",
              "      <td>4.0</td>\n",
              "      <td>3.0</td>\n",
              "      <td>3.0</td>\n",
              "      <td>3.0</td>\n",
              "      <td>3.5</td>\n",
              "      <td>...</td>\n",
              "      <td>4.0</td>\n",
              "      <td>4.75</td>\n",
              "      <td>4.0</td>\n",
              "      <td>4.0</td>\n",
              "      <td>3.5</td>\n",
              "      <td>3.75</td>\n",
              "      <td>3.0</td>\n",
              "      <td>3.5</td>\n",
              "      <td>4.0</td>\n",
              "      <td>4.0</td>\n",
              "    </tr>\n",
              "    <tr>\n",
              "      <th>2</th>\n",
              "      <td>4.0</td>\n",
              "      <td>3.5</td>\n",
              "      <td>3.0</td>\n",
              "      <td>3.0</td>\n",
              "      <td>3.0</td>\n",
              "      <td>4.0</td>\n",
              "      <td>3.0</td>\n",
              "      <td>3.0</td>\n",
              "      <td>3.0</td>\n",
              "      <td>3.5</td>\n",
              "      <td>...</td>\n",
              "      <td>4.0</td>\n",
              "      <td>4.75</td>\n",
              "      <td>4.0</td>\n",
              "      <td>4.0</td>\n",
              "      <td>3.5</td>\n",
              "      <td>3.75</td>\n",
              "      <td>3.0</td>\n",
              "      <td>3.5</td>\n",
              "      <td>4.0</td>\n",
              "      <td>4.0</td>\n",
              "    </tr>\n",
              "    <tr>\n",
              "      <th>3</th>\n",
              "      <td>4.0</td>\n",
              "      <td>3.5</td>\n",
              "      <td>3.0</td>\n",
              "      <td>3.0</td>\n",
              "      <td>3.0</td>\n",
              "      <td>4.0</td>\n",
              "      <td>3.0</td>\n",
              "      <td>3.0</td>\n",
              "      <td>3.0</td>\n",
              "      <td>3.5</td>\n",
              "      <td>...</td>\n",
              "      <td>4.0</td>\n",
              "      <td>4.75</td>\n",
              "      <td>4.0</td>\n",
              "      <td>4.0</td>\n",
              "      <td>3.5</td>\n",
              "      <td>3.75</td>\n",
              "      <td>3.0</td>\n",
              "      <td>3.5</td>\n",
              "      <td>4.0</td>\n",
              "      <td>4.0</td>\n",
              "    </tr>\n",
              "    <tr>\n",
              "      <th>4</th>\n",
              "      <td>4.0</td>\n",
              "      <td>3.5</td>\n",
              "      <td>3.0</td>\n",
              "      <td>3.0</td>\n",
              "      <td>3.0</td>\n",
              "      <td>4.0</td>\n",
              "      <td>3.0</td>\n",
              "      <td>3.0</td>\n",
              "      <td>3.0</td>\n",
              "      <td>3.5</td>\n",
              "      <td>...</td>\n",
              "      <td>4.0</td>\n",
              "      <td>4.75</td>\n",
              "      <td>4.0</td>\n",
              "      <td>4.0</td>\n",
              "      <td>3.5</td>\n",
              "      <td>3.75</td>\n",
              "      <td>3.0</td>\n",
              "      <td>3.5</td>\n",
              "      <td>4.0</td>\n",
              "      <td>4.0</td>\n",
              "    </tr>\n",
              "    <tr>\n",
              "      <th>5</th>\n",
              "      <td>4.0</td>\n",
              "      <td>3.5</td>\n",
              "      <td>3.0</td>\n",
              "      <td>3.0</td>\n",
              "      <td>3.0</td>\n",
              "      <td>4.0</td>\n",
              "      <td>3.0</td>\n",
              "      <td>3.0</td>\n",
              "      <td>3.0</td>\n",
              "      <td>3.5</td>\n",
              "      <td>...</td>\n",
              "      <td>4.0</td>\n",
              "      <td>4.75</td>\n",
              "      <td>4.0</td>\n",
              "      <td>4.0</td>\n",
              "      <td>3.5</td>\n",
              "      <td>3.75</td>\n",
              "      <td>3.0</td>\n",
              "      <td>3.5</td>\n",
              "      <td>4.0</td>\n",
              "      <td>4.0</td>\n",
              "    </tr>\n",
              "  </tbody>\n",
              "</table>\n",
              "<p>5 rows × 3650 columns</p>\n",
              "</div>\n",
              "    <div class=\"colab-df-buttons\">\n",
              "\n",
              "  <div class=\"colab-df-container\">\n",
              "    <button class=\"colab-df-convert\" onclick=\"convertToInteractive('df-8085639f-afb4-4a8e-a3bf-1042d81d4289')\"\n",
              "            title=\"Convert this dataframe to an interactive table.\"\n",
              "            style=\"display:none;\">\n",
              "\n",
              "  <svg xmlns=\"http://www.w3.org/2000/svg\" height=\"24px\" viewBox=\"0 -960 960 960\">\n",
              "    <path d=\"M120-120v-720h720v720H120Zm60-500h600v-160H180v160Zm220 220h160v-160H400v160Zm0 220h160v-160H400v160ZM180-400h160v-160H180v160Zm440 0h160v-160H620v160ZM180-180h160v-160H180v160Zm440 0h160v-160H620v160Z\"/>\n",
              "  </svg>\n",
              "    </button>\n",
              "\n",
              "  <style>\n",
              "    .colab-df-container {\n",
              "      display:flex;\n",
              "      gap: 12px;\n",
              "    }\n",
              "\n",
              "    .colab-df-convert {\n",
              "      background-color: #E8F0FE;\n",
              "      border: none;\n",
              "      border-radius: 50%;\n",
              "      cursor: pointer;\n",
              "      display: none;\n",
              "      fill: #1967D2;\n",
              "      height: 32px;\n",
              "      padding: 0 0 0 0;\n",
              "      width: 32px;\n",
              "    }\n",
              "\n",
              "    .colab-df-convert:hover {\n",
              "      background-color: #E2EBFA;\n",
              "      box-shadow: 0px 1px 2px rgba(60, 64, 67, 0.3), 0px 1px 3px 1px rgba(60, 64, 67, 0.15);\n",
              "      fill: #174EA6;\n",
              "    }\n",
              "\n",
              "    .colab-df-buttons div {\n",
              "      margin-bottom: 4px;\n",
              "    }\n",
              "\n",
              "    [theme=dark] .colab-df-convert {\n",
              "      background-color: #3B4455;\n",
              "      fill: #D2E3FC;\n",
              "    }\n",
              "\n",
              "    [theme=dark] .colab-df-convert:hover {\n",
              "      background-color: #434B5C;\n",
              "      box-shadow: 0px 1px 3px 1px rgba(0, 0, 0, 0.15);\n",
              "      filter: drop-shadow(0px 1px 2px rgba(0, 0, 0, 0.3));\n",
              "      fill: #FFFFFF;\n",
              "    }\n",
              "  </style>\n",
              "\n",
              "    <script>\n",
              "      const buttonEl =\n",
              "        document.querySelector('#df-8085639f-afb4-4a8e-a3bf-1042d81d4289 button.colab-df-convert');\n",
              "      buttonEl.style.display =\n",
              "        google.colab.kernel.accessAllowed ? 'block' : 'none';\n",
              "\n",
              "      async function convertToInteractive(key) {\n",
              "        const element = document.querySelector('#df-8085639f-afb4-4a8e-a3bf-1042d81d4289');\n",
              "        const dataTable =\n",
              "          await google.colab.kernel.invokeFunction('convertToInteractive',\n",
              "                                                    [key], {});\n",
              "        if (!dataTable) return;\n",
              "\n",
              "        const docLinkHtml = 'Like what you see? Visit the ' +\n",
              "          '<a target=\"_blank\" href=https://colab.research.google.com/notebooks/data_table.ipynb>data table notebook</a>'\n",
              "          + ' to learn more about interactive tables.';\n",
              "        element.innerHTML = '';\n",
              "        dataTable['output_type'] = 'display_data';\n",
              "        await google.colab.output.renderOutput(dataTable, element);\n",
              "        const docLink = document.createElement('div');\n",
              "        docLink.innerHTML = docLinkHtml;\n",
              "        element.appendChild(docLink);\n",
              "      }\n",
              "    </script>\n",
              "  </div>\n",
              "\n",
              "\n",
              "<div id=\"df-3e0de057-8b8b-4e8e-a3f4-689ed1951ad7\">\n",
              "  <button class=\"colab-df-quickchart\" onclick=\"quickchart('df-3e0de057-8b8b-4e8e-a3f4-689ed1951ad7')\"\n",
              "            title=\"Suggest charts\"\n",
              "            style=\"display:none;\">\n",
              "\n",
              "<svg xmlns=\"http://www.w3.org/2000/svg\" height=\"24px\"viewBox=\"0 0 24 24\"\n",
              "     width=\"24px\">\n",
              "    <g>\n",
              "        <path d=\"M19 3H5c-1.1 0-2 .9-2 2v14c0 1.1.9 2 2 2h14c1.1 0 2-.9 2-2V5c0-1.1-.9-2-2-2zM9 17H7v-7h2v7zm4 0h-2V7h2v10zm4 0h-2v-4h2v4z\"/>\n",
              "    </g>\n",
              "</svg>\n",
              "  </button>\n",
              "\n",
              "<style>\n",
              "  .colab-df-quickchart {\n",
              "      --bg-color: #E8F0FE;\n",
              "      --fill-color: #1967D2;\n",
              "      --hover-bg-color: #E2EBFA;\n",
              "      --hover-fill-color: #174EA6;\n",
              "      --disabled-fill-color: #AAA;\n",
              "      --disabled-bg-color: #DDD;\n",
              "  }\n",
              "\n",
              "  [theme=dark] .colab-df-quickchart {\n",
              "      --bg-color: #3B4455;\n",
              "      --fill-color: #D2E3FC;\n",
              "      --hover-bg-color: #434B5C;\n",
              "      --hover-fill-color: #FFFFFF;\n",
              "      --disabled-bg-color: #3B4455;\n",
              "      --disabled-fill-color: #666;\n",
              "  }\n",
              "\n",
              "  .colab-df-quickchart {\n",
              "    background-color: var(--bg-color);\n",
              "    border: none;\n",
              "    border-radius: 50%;\n",
              "    cursor: pointer;\n",
              "    display: none;\n",
              "    fill: var(--fill-color);\n",
              "    height: 32px;\n",
              "    padding: 0;\n",
              "    width: 32px;\n",
              "  }\n",
              "\n",
              "  .colab-df-quickchart:hover {\n",
              "    background-color: var(--hover-bg-color);\n",
              "    box-shadow: 0 1px 2px rgba(60, 64, 67, 0.3), 0 1px 3px 1px rgba(60, 64, 67, 0.15);\n",
              "    fill: var(--button-hover-fill-color);\n",
              "  }\n",
              "\n",
              "  .colab-df-quickchart-complete:disabled,\n",
              "  .colab-df-quickchart-complete:disabled:hover {\n",
              "    background-color: var(--disabled-bg-color);\n",
              "    fill: var(--disabled-fill-color);\n",
              "    box-shadow: none;\n",
              "  }\n",
              "\n",
              "  .colab-df-spinner {\n",
              "    border: 2px solid var(--fill-color);\n",
              "    border-color: transparent;\n",
              "    border-bottom-color: var(--fill-color);\n",
              "    animation:\n",
              "      spin 1s steps(1) infinite;\n",
              "  }\n",
              "\n",
              "  @keyframes spin {\n",
              "    0% {\n",
              "      border-color: transparent;\n",
              "      border-bottom-color: var(--fill-color);\n",
              "      border-left-color: var(--fill-color);\n",
              "    }\n",
              "    20% {\n",
              "      border-color: transparent;\n",
              "      border-left-color: var(--fill-color);\n",
              "      border-top-color: var(--fill-color);\n",
              "    }\n",
              "    30% {\n",
              "      border-color: transparent;\n",
              "      border-left-color: var(--fill-color);\n",
              "      border-top-color: var(--fill-color);\n",
              "      border-right-color: var(--fill-color);\n",
              "    }\n",
              "    40% {\n",
              "      border-color: transparent;\n",
              "      border-right-color: var(--fill-color);\n",
              "      border-top-color: var(--fill-color);\n",
              "    }\n",
              "    60% {\n",
              "      border-color: transparent;\n",
              "      border-right-color: var(--fill-color);\n",
              "    }\n",
              "    80% {\n",
              "      border-color: transparent;\n",
              "      border-right-color: var(--fill-color);\n",
              "      border-bottom-color: var(--fill-color);\n",
              "    }\n",
              "    90% {\n",
              "      border-color: transparent;\n",
              "      border-bottom-color: var(--fill-color);\n",
              "    }\n",
              "  }\n",
              "</style>\n",
              "\n",
              "  <script>\n",
              "    async function quickchart(key) {\n",
              "      const quickchartButtonEl =\n",
              "        document.querySelector('#' + key + ' button');\n",
              "      quickchartButtonEl.disabled = true;  // To prevent multiple clicks.\n",
              "      quickchartButtonEl.classList.add('colab-df-spinner');\n",
              "      try {\n",
              "        const charts = await google.colab.kernel.invokeFunction(\n",
              "            'suggestCharts', [key], {});\n",
              "      } catch (error) {\n",
              "        console.error('Error during call to suggestCharts:', error);\n",
              "      }\n",
              "      quickchartButtonEl.classList.remove('colab-df-spinner');\n",
              "      quickchartButtonEl.classList.add('colab-df-quickchart-complete');\n",
              "    }\n",
              "    (() => {\n",
              "      let quickchartButtonEl =\n",
              "        document.querySelector('#df-3e0de057-8b8b-4e8e-a3f4-689ed1951ad7 button');\n",
              "      quickchartButtonEl.style.display =\n",
              "        google.colab.kernel.accessAllowed ? 'block' : 'none';\n",
              "    })();\n",
              "  </script>\n",
              "</div>\n",
              "\n",
              "    </div>\n",
              "  </div>\n"
            ],
            "application/vnd.google.colaboratory.intrinsic+json": {
              "type": "dataframe",
              "variable_name": "user_movie_matrix_imputed"
            }
          },
          "metadata": {},
          "execution_count": 211
        }
      ]
    },
    {
      "cell_type": "code",
      "source": [
        "user_similarity = cosine_similarity(user_movie_matrix_imputed)"
      ],
      "metadata": {
        "id": "6xAHp-78LlZe"
      },
      "execution_count": 212,
      "outputs": []
    },
    {
      "cell_type": "code",
      "source": [
        "user_similarity"
      ],
      "metadata": {
        "colab": {
          "base_uri": "https://localhost:8080/",
          "height": 0
        },
        "id": "dr5GtLIOO-S0",
        "outputId": "7e636be4-b8fb-4092-9d79-a957d6e45daa"
      },
      "execution_count": 213,
      "outputs": [
        {
          "output_type": "execute_result",
          "data": {
            "text/plain": [
              "array([[1.        , 0.9971354 , 0.99485621, ..., 0.98836245, 0.99723366,\n",
              "        0.99325562],\n",
              "       [0.9971354 , 1.        , 0.99747464, ..., 0.99147363, 0.9997109 ,\n",
              "        0.99568235],\n",
              "       [0.99485621, 0.99747464, 1.        , ..., 0.98940525, 0.99754855,\n",
              "        0.99363937],\n",
              "       ...,\n",
              "       [0.98836245, 0.99147363, 0.98940525, ..., 1.        , 0.99164579,\n",
              "        0.98718232],\n",
              "       [0.99723366, 0.9997109 , 0.99754855, ..., 0.99164579, 1.        ,\n",
              "        0.99558904],\n",
              "       [0.99325562, 0.99568235, 0.99363937, ..., 0.98718232, 0.99558904,\n",
              "        1.        ]])"
            ]
          },
          "metadata": {},
          "execution_count": 213
        }
      ]
    },
    {
      "cell_type": "code",
      "source": [
        "movie_similarity_df = pd.DataFrame(movie_similarity,\n",
        "                                   index=user_movie_matrix_imputed.columns,\n",
        "                                   columns=user_movie_matrix_imputed.columns)\n"
      ],
      "metadata": {
        "id": "_vNX0nFksbhW"
      },
      "execution_count": 242,
      "outputs": []
    },
    {
      "cell_type": "code",
      "source": [
        "movie_similarity"
      ],
      "metadata": {
        "colab": {
          "base_uri": "https://localhost:8080/",
          "height": 0
        },
        "id": "qrqFMysMsgU9",
        "outputId": "3f73b0e4-58db-48a8-ba3f-d471a1c1ed76"
      },
      "execution_count": 243,
      "outputs": [
        {
          "output_type": "execute_result",
          "data": {
            "text/plain": [
              "array([[1.        , 0.98858161, 0.98843203, ..., 0.99186466, 0.99154279,\n",
              "        0.99218014],\n",
              "       [0.98858161, 1.        , 0.99068274, ..., 0.99387843, 0.99333866,\n",
              "        0.9942829 ],\n",
              "       [0.98843203, 0.99068274, 1.        , ..., 0.99423035, 0.99381387,\n",
              "        0.99448206],\n",
              "       ...,\n",
              "       [0.99186466, 0.99387843, 0.99423035, ..., 1.        , 0.99940997,\n",
              "        0.99945013],\n",
              "       [0.99154279, 0.99333866, 0.99381387, ..., 0.99940997, 1.        ,\n",
              "        0.99907807],\n",
              "       [0.99218014, 0.9942829 , 0.99448206, ..., 0.99945013, 0.99907807,\n",
              "        1.        ]])"
            ]
          },
          "metadata": {},
          "execution_count": 243
        }
      ]
    },
    {
      "cell_type": "code",
      "source": [
        "def get_top_recommendations(user_id, user_movie_matrix_imputed, movies, user_similarity, movie_similarity, n=5):\n",
        "    if user_id not in user_movie_matrix_imputed.index:\n",
        "        print(f\"User {user_id} not found in the matrix.\")\n",
        "        return []\n",
        "\n",
        "    # Step 1: User-Based Recommendation\n",
        "    user_idx = list(user_movie_matrix_imputed.index).index(user_id)\n",
        "    similar_users = np.argsort(user_similarity[user_idx])[::-1][1:]  # Exclude self\n",
        "\n",
        "    user_ratings = user_movie_matrix_imputed.loc[user_id].dropna()\n",
        "    recommendations = {}\n",
        "\n",
        "    for similar_user in similar_users:\n",
        "        similar_user_id = user_movie_matrix_imputed.index[similar_user]\n",
        "        similar_user_ratings = user_movie_matrix_imputed.loc[similar_user_id].dropna()\n",
        "\n",
        "        for movie, rating in similar_user_ratings.items():\n",
        "            if movie not in user_ratings:\n",
        "                recommendations.setdefault(movie, []).append(rating)\n",
        "\n",
        "    sorted_recommendations = sorted(recommendations.items(), key=lambda x: np.mean(x[1]), reverse=True)\n",
        "    top_movies = [movie for movie, _ in sorted_recommendations[:n]]\n",
        "\n",
        "    # If no recommendations found, use Item-Based Filtering\n",
        "    if not top_movies:\n",
        "        print(\"No user-based recommendations found. Switching to item-based recommendations.\")\n",
        "        top_movies = []\n",
        "\n",
        "        # Get movies user has rated highly\n",
        "        user_top_movies = user_ratings[user_ratings >= 4].index\n",
        "\n",
        "        for movie in user_top_movies:\n",
        "            similar_movies = movie_similarity_df.loc[movie].sort_values(ascending=False).index[1:n+1]  # Skip self\n",
        "            top_movies.extend(similar_movies)\n",
        "\n",
        "        top_movies = list(set(top_movies))[:n]  # Remove duplicates and limit to n movies\n",
        "\n",
        "    # Use movie titles\n",
        "    top_movie_titles = [\n",
        "        ratings.loc[ratings['movieId'] == movie, 'title'].iloc[0] if movie in movies['movieId'].values else f\"Movie ID {movie}\"\n",
        "        for movie in top_movies\n",
        "    ]\n",
        "\n",
        "    return top_movie_titles\n",
        "\n"
      ],
      "metadata": {
        "id": "PQ6GgO8FLrCv"
      },
      "execution_count": 248,
      "outputs": []
    },
    {
      "cell_type": "code",
      "source": [
        "def evaluate_model(test_data, user_movie_matrix_imputed):\n",
        "    y_true = []\n",
        "    y_pred = []\n",
        "\n",
        "    for _, row in test_data.iterrows():\n",
        "        user_id, movie_id, actual_rating = row['userId'], row['movieId'], row['rating']\n",
        "\n",
        "        if user_id not in user_movie_matrix_imputed.index or movie_id not in user_movie_matrix_imputed.columns:\n",
        "            continue  # Skip missing users or movies\n",
        "\n",
        "        predicted_rating = user_movie_matrix_imputed.loc[user_id, movie_id]\n",
        "\n",
        "        y_true.append(actual_rating)\n",
        "        y_pred.append(predicted_rating)\n",
        "\n",
        "    print(f\"Total actual ratings: {len(y_true)}, Total predicted ratings: {len(y_pred)}\")\n",
        "\n",
        "    if len(y_true) == 0:\n",
        "        print(\"Error: No valid predictions found!\")\n",
        "        return None, None\n",
        "\n",
        "    rmse = np.sqrt(mean_squared_error(y_true, y_pred))\n",
        "    mae = mean_absolute_error(y_true, y_pred)\n",
        "    return rmse, mae\n",
        "\n"
      ],
      "metadata": {
        "id": "f5Mmnts-PxO2"
      },
      "execution_count": 215,
      "outputs": []
    },
    {
      "cell_type": "code",
      "source": [
        "# Split data into training and testing\n",
        "train_data, test_data = train_test_split(df, test_size=0.2, random_state=42)\n",
        "user_movie_matrix_train = train_data.pivot_table(index='userId', columns='movieId', values='rating')\n",
        "print(test_data.shape)"
      ],
      "metadata": {
        "colab": {
          "base_uri": "https://localhost:8080/",
          "height": 0
        },
        "id": "t1-PTXwDLzUo",
        "outputId": "3b6efbd9-dd37-430a-a50e-6e30e96657b7"
      },
      "execution_count": 216,
      "outputs": [
        {
          "output_type": "stream",
          "name": "stdout",
          "text": [
            "(18055, 6)\n"
          ]
        }
      ]
    },
    {
      "cell_type": "code",
      "source": [
        "print(\"Original Data Shape:\", df.shape)\n",
        "print(\"Train Data Shape:\", train_data.shape)\n",
        "print(\"Test Data Shape:\", test_data.shape)\n",
        "print(\"Train + Test Matches Original:\", train_data.shape[0] + test_data.shape[0] == df.shape[0])\n"
      ],
      "metadata": {
        "colab": {
          "base_uri": "https://localhost:8080/",
          "height": 0
        },
        "id": "WElpAzDJkUuG",
        "outputId": "644f6f27-0912-4f02-ef37-2c6dbd683f21"
      },
      "execution_count": 217,
      "outputs": [
        {
          "output_type": "stream",
          "name": "stdout",
          "text": [
            "Original Data Shape: (90274, 6)\n",
            "Train Data Shape: (72219, 6)\n",
            "Test Data Shape: (18055, 6)\n",
            "Train + Test Matches Original: True\n"
          ]
        }
      ]
    },
    {
      "cell_type": "code",
      "source": [
        "# Ensure all movies exist in the training matrix, filling missing ones with 0\n",
        "all_movie_ids = df['movieId'].unique()\n",
        "user_movie_matrix_train = user_movie_matrix_train.apply(lambda row: row.fillna(row.mean()), axis=1)"
      ],
      "metadata": {
        "id": "1PTFS0N7Xa6I"
      },
      "execution_count": 218,
      "outputs": []
    },
    {
      "cell_type": "code",
      "source": [
        "print(test_data.shape)  # Should not be (0, n)\n",
        "print(test_data.head())  # See first few rows\n"
      ],
      "metadata": {
        "colab": {
          "base_uri": "https://localhost:8080/",
          "height": 0
        },
        "id": "99sV3qvDPP5a",
        "outputId": "1c5d5ed9-8e7b-408d-cc98-ea8b277c2dfe"
      },
      "execution_count": 219,
      "outputs": [
        {
          "output_type": "stream",
          "name": "stdout",
          "text": [
            "(18055, 6)\n",
            "       movieId                           title                    genres  \\\n",
            "784         11  American President, The (1995)      Comedy|Drama|Romance   \n",
            "10144      356             Forrest Gump (1994)  Comedy|Drama|Romance|War   \n",
            "51564     3101         Fatal Attraction (1987)            Drama|Thriller   \n",
            "73762     7147                 Big Fish (2003)     Drama|Fantasy|Romance   \n",
            "2003        42          Dead Presidents (1995)        Action|Crime|Drama   \n",
            "\n",
            "       userId  rating   timestamp  \n",
            "784       357     3.5  1348612270  \n",
            "10144     232     4.0  1076956528  \n",
            "51564     480     4.0  1179178407  \n",
            "73762     187     2.0  1161849699  \n",
            "2003      588     3.0   839316637  \n"
          ]
        }
      ]
    },
    {
      "cell_type": "code",
      "source": [
        "# Evaluate the model\n",
        "rmse, mae = evaluate_model(test_data, user_movie_matrix_train)\n",
        "print(f\"RMSE: {rmse}, MAE: {mae}\")"
      ],
      "metadata": {
        "colab": {
          "base_uri": "https://localhost:8080/",
          "height": 0
        },
        "id": "_YtozxxFL15E",
        "outputId": "81df08e3-7b55-462b-96a0-53839ab1edb2"
      },
      "execution_count": 220,
      "outputs": [
        {
          "output_type": "stream",
          "name": "stdout",
          "text": [
            "Total actual ratings: 18055, Total predicted ratings: 18055\n",
            "RMSE: 0.9339279099341785, MAE: 0.7261568220615662\n"
          ]
        }
      ]
    },
    {
      "cell_type": "markdown",
      "source": [
        "Interpretation:\n",
        "\n",
        "Total actual ratings: 18,055 → The number of test ratings used for evaluation.\n",
        "\n",
        "Total predicted ratings: 18,055 → The model successfully predicted all test ratings.\n",
        "\n",
        "RMSE (Root Mean Squared Error): 0.93 → On average, predictions deviate from actual ratings by ~0.93 units.\n",
        "\n",
        "MAE (Mean Absolute Error): 0.73 → On average, absolute prediction errors are ~0.73 units\n",
        "\n",
        "Bases of the moel scores above, this is not the best model for this recommendation system. I will try other alternatives for better results."
      ],
      "metadata": {
        "id": "EcxPjO1OlQ_H"
      }
    },
    {
      "cell_type": "code",
      "source": [
        "# try\n",
        "user_id = 1\n",
        "\n",
        "top_movies = get_top_recommendations(user_id, user_movie_matrix_imputed, movies, user_similarity, movie_similarity)\n",
        "\n",
        "print(f\"Top 5 recommended movies for User {user_id}: {top_movies}\")\n"
      ],
      "metadata": {
        "colab": {
          "base_uri": "https://localhost:8080/",
          "height": 0
        },
        "id": "AyUop43CL-_i",
        "outputId": "bc0e8df7-d165-45a3-91d0-7e6680f144b4"
      },
      "execution_count": 250,
      "outputs": [
        {
          "output_type": "stream",
          "name": "stdout",
          "text": [
            "No user-based recommendations found. Switching to item-based recommendations.\n",
            "Top 5 recommended movies for User 1: ['Waiting to Exhale (1995)', 'Warcraft (2016)', 'Fighter, The (2010)', 'Balto (1995)', 'Avengers: Age of Ultron (2015)']\n"
          ]
        }
      ]
    },
    {
      "cell_type": "code",
      "source": [
        "!pip install scikit-surprise\n"
      ],
      "metadata": {
        "colab": {
          "base_uri": "https://localhost:8080/",
          "height": 0
        },
        "id": "Xct06YWcwmmU",
        "outputId": "92cbc880-a7a8-46a7-cf3f-1d4b7f067c56"
      },
      "execution_count": 253,
      "outputs": [
        {
          "output_type": "stream",
          "name": "stdout",
          "text": [
            "Collecting scikit-surprise\n",
            "  Downloading scikit_surprise-1.1.4.tar.gz (154 kB)\n",
            "\u001b[?25l     \u001b[90m━━━━━━━━━━━━━━━━━━━━━━━━━━━━━━━━━━━━━━━━\u001b[0m \u001b[32m0.0/154.4 kB\u001b[0m \u001b[31m?\u001b[0m eta \u001b[36m-:--:--\u001b[0m\r\u001b[2K     \u001b[91m━━━━━━━━━━━━━━━━━━━━━━━━━━━━━━━\u001b[0m\u001b[91m╸\u001b[0m\u001b[90m━━━━━━━━\u001b[0m \u001b[32m122.9/154.4 kB\u001b[0m \u001b[31m3.4 MB/s\u001b[0m eta \u001b[36m0:00:01\u001b[0m\r\u001b[2K     \u001b[90m━━━━━━━━━━━━━━━━━━━━━━━━━━━━━━━━━━━━━━━━\u001b[0m \u001b[32m154.4/154.4 kB\u001b[0m \u001b[31m3.0 MB/s\u001b[0m eta \u001b[36m0:00:00\u001b[0m\n",
            "\u001b[?25h  Installing build dependencies ... \u001b[?25l\u001b[?25hdone\n",
            "  Getting requirements to build wheel ... \u001b[?25l\u001b[?25hdone\n",
            "  Preparing metadata (pyproject.toml) ... \u001b[?25l\u001b[?25hdone\n",
            "Requirement already satisfied: joblib>=1.2.0 in /usr/local/lib/python3.11/dist-packages (from scikit-surprise) (1.4.2)\n",
            "Requirement already satisfied: numpy>=1.19.5 in /usr/local/lib/python3.11/dist-packages (from scikit-surprise) (1.26.4)\n",
            "Requirement already satisfied: scipy>=1.6.0 in /usr/local/lib/python3.11/dist-packages (from scikit-surprise) (1.13.1)\n",
            "Building wheels for collected packages: scikit-surprise\n",
            "  Building wheel for scikit-surprise (pyproject.toml) ... \u001b[?25l\u001b[?25hdone\n",
            "  Created wheel for scikit-surprise: filename=scikit_surprise-1.1.4-cp311-cp311-linux_x86_64.whl size=2505172 sha256=97281e3daa7e630e320e01edefa6d90355176a93951dd0488e4f2d04a85e63d1\n",
            "  Stored in directory: /root/.cache/pip/wheels/2a/8f/6e/7e2899163e2d85d8266daab4aa1cdabec7a6c56f83c015b5af\n",
            "Successfully built scikit-surprise\n",
            "Installing collected packages: scikit-surprise\n",
            "Successfully installed scikit-surprise-1.1.4\n"
          ]
        }
      ]
    },
    {
      "cell_type": "markdown",
      "source": [
        "Singular Value Decomposition (SVD) Model in Recommendation Systems\n",
        "\n",
        "SVD is a matrix factorization technique used in recommendation systems to predict missing values in a user-item interaction matrix. It is widely used in collaborative filtering, such as movie recommendations.\n",
        "\n"
      ],
      "metadata": {
        "id": "pSjXcJ2vwEUd"
      }
    },
    {
      "cell_type": "code",
      "source": [
        "# Load Data\n",
        "reader = Reader(rating_scale=(0.5, 5.0))\n",
        "data = Dataset.load_from_df(df[['userId', 'movieId', 'rating']], reader)\n",
        "\n",
        "# Define parameter grid\n",
        "param_grid = {\n",
        "    'n_factors': [50, 100, 150],  # Latent factors\n",
        "    'reg_all': [0.02, 0.05, 0.1],  # Regularization\n",
        "    'lr_all': [0.002, 0.005, 0.01]  # Learning rate\n",
        "}\n",
        "\n",
        "# Perform grid search\n",
        "gs = GridSearchCV(SVD, param_grid, measures=['rmse', 'mae'], cv=5, n_jobs=-1)\n",
        "gs.fit(data)\n",
        "\n",
        "# Best parameters\n",
        "print(\"Best RMSE:\", gs.best_score['rmse'])\n",
        "print(\"Best Params:\", gs.best_params['rmse'])\n",
        "\n",
        "# Train SVD with best parameters\n",
        "best_svd = SVD(n_factors=gs.best_params['rmse']['n_factors'],\n",
        "               reg_all=gs.best_params['rmse']['reg_all'],\n",
        "               lr_all=gs.best_params['rmse']['lr_all'])\n",
        "\n",
        "# Cross-validation\n",
        "from surprise.model_selection import cross_validate\n",
        "cross_validate(best_svd, data, measures=['RMSE', 'MAE'], cv=5, verbose=True)\n",
        "\n"
      ],
      "metadata": {
        "colab": {
          "base_uri": "https://localhost:8080/",
          "height": 0
        },
        "id": "pyEcQmGrwCOl",
        "outputId": "86b23b89-5391-4067-c38c-0e72e7b6bc0a"
      },
      "execution_count": 263,
      "outputs": [
        {
          "output_type": "stream",
          "name": "stdout",
          "text": [
            "Best RMSE: 0.8422932339150047\n",
            "Best Params: {'n_factors': 150, 'reg_all': 0.05, 'lr_all': 0.01}\n",
            "Evaluating RMSE, MAE of algorithm SVD on 5 split(s).\n",
            "\n",
            "                  Fold 1  Fold 2  Fold 3  Fold 4  Fold 5  Mean    Std     \n",
            "RMSE (testset)    0.8423  0.8509  0.8412  0.8379  0.8465  0.8438  0.0045  \n",
            "MAE (testset)     0.6475  0.6507  0.6448  0.6453  0.6464  0.6469  0.0021  \n",
            "Fit time          2.30    1.76    1.72    1.73    1.71    1.84    0.23    \n",
            "Test time         0.29    0.09    0.11    0.27    0.09    0.17    0.09    \n"
          ]
        },
        {
          "output_type": "execute_result",
          "data": {
            "text/plain": [
              "{'test_rmse': array([0.84232588, 0.85093279, 0.84117208, 0.83792237, 0.84654707]),\n",
              " 'test_mae': array([0.64748601, 0.65070821, 0.64483968, 0.6452747 , 0.64640057]),\n",
              " 'fit_time': (2.2969934940338135,\n",
              "  1.7561047077178955,\n",
              "  1.7151992321014404,\n",
              "  1.7342348098754883,\n",
              "  1.7106258869171143),\n",
              " 'test_time': (0.29480767250061035,\n",
              "  0.09152364730834961,\n",
              "  0.11405611038208008,\n",
              "  0.2704744338989258,\n",
              "  0.09162521362304688)}"
            ]
          },
          "metadata": {},
          "execution_count": 263
        }
      ]
    },
    {
      "cell_type": "markdown",
      "source": [
        "Performance Summary of SVD Model\n",
        "\n",
        "Best RMSE: 0.8423 (expected a lower score for better accuracy) not very far from my previous developed model.\n",
        "\n",
        "Best Parameters:\n",
        "\n",
        "n_factors = 150 (number of latent factors)\n",
        "reg_all = 0.05 (regularization parameter)\n",
        "lr_all = 0.01 (learning rate)\n",
        "Cross-validation Results (5 folds):\n",
        "\n",
        "RMSE: Mean = 0.8438, Std = 0.0045 (stable performance)\n",
        "MAE: Mean = 0.6469, Std = 0.0021 (low error in predictions)\n",
        "Execution Times:\n",
        "\n",
        "Fit time: ~1.84 sec (average)\n",
        "Test time: ~0.17 sec (average)\n",
        "\n",
        "*Conclusion*\n",
        "\n",
        "The model performs well, with low RMSE and MAE, showing consistent predictions across folds. The selected parameters optimize performance."
      ],
      "metadata": {
        "id": "UQHswd2H3m6L"
      }
    },
    {
      "cell_type": "markdown",
      "source": [
        "Matrix Factorization Using ALS (Alternating Least Squares)"
      ],
      "metadata": {
        "id": "InYby4VAwTVf"
      }
    },
    {
      "cell_type": "code",
      "source": [
        "from pyspark.sql.functions import explode, col, row_number, when\n",
        "from pyspark.sql.window import Window\n",
        "\n",
        "# Explode recommendations to get movieId and predicted_rating separately\n",
        "user_recs_exploded = user_recs.select(\n",
        "    \"userId\", explode(\"recommendations\").alias(\"rec\")\n",
        ")\n",
        "\n",
        "# Extract movieId and rating from nested structure\n",
        "user_recs_final = user_recs_exploded.select(\n",
        "    \"userId\", col(\"rec.movieId\").alias(\"movieId\"), col(\"rec.rating\").alias(\"predicted_rating\")\n",
        ").dropDuplicates()  # Remove duplicate recommendations\n",
        "\n",
        "# **Cap predicted ratings at 5**\n",
        "user_recs_final = user_recs_final.withColumn(\n",
        "    \"predicted_rating\", when(col(\"predicted_rating\") > 5, 5).otherwise(col(\"predicted_rating\"))\n",
        ")\n",
        "\n",
        "# Ensure `movies` is properly formatted before converting to Spark DataFrame\n",
        "movies_spark = spark.createDataFrame(ratings[['movieId', 'title']]).dropDuplicates()\n",
        "\n",
        "# Join recommendations with movie titles\n",
        "user_recs_with_titles = user_recs_final.join(movies_spark, on=\"movieId\", how=\"left\")\n",
        "\n",
        "# Ensure unique recommendations per user, keeping the highest-rated ones\n",
        "window_spec = Window.partitionBy(\"userId\").orderBy(col(\"predicted_rating\").desc())\n",
        "user_recs_ranked = user_recs_with_titles.withColumn(\"rank\", row_number().over(window_spec))\n",
        "\n",
        "# Keep only the top recommendations per user (adjust the number as needed)\n",
        "user_top_recs = user_recs_ranked.filter(col(\"rank\") <= 10).drop(\"rank\")\n",
        "\n",
        "# Show final recommendations\n",
        "user_top_recs.show(20, truncate=False)\n",
        "\n",
        "\n",
        "\n",
        "\n"
      ],
      "metadata": {
        "colab": {
          "base_uri": "https://localhost:8080/",
          "height": 0
        },
        "id": "GpyGtQyOwWE6",
        "outputId": "e3a83475-5c57-4790-8f9e-96fef5f76287"
      },
      "execution_count": 280,
      "outputs": [
        {
          "output_type": "stream",
          "name": "stdout",
          "text": [
            "+-------+------+----------------+------------------------------------------------------+\n",
            "|movieId|userId|predicted_rating|title                                                 |\n",
            "+-------+------+----------------+------------------------------------------------------+\n",
            "|82     |1     |5.0             |Antonia's Line (Antonia) (1995)                       |\n",
            "|3925   |1     |5.0             |Stranger Than Paradise (1984)                         |\n",
            "|318    |1     |5.0             |Shawshank Redemption, The (1994)                      |\n",
            "|177593 |1     |5.0             |Three Billboards Outside Ebbing, Missouri (2017)      |\n",
            "|720    |1     |5.0             |Wallace & Gromit: The Best of Aardman Animation (1996)|\n",
            "|51931  |2     |4.630908        |Reign Over Me (2007)                                  |\n",
            "|86377  |2     |4.5115733       |Louis C.K.: Shameless (2007)                          |\n",
            "|1366   |2     |4.476908        |Crucible, The (1996)                                  |\n",
            "|116897 |2     |4.391404        |Wild Tales (2014)                                     |\n",
            "|177593 |2     |4.3870263       |Three Billboards Outside Ebbing, Missouri (2017)      |\n",
            "|4821   |3     |4.8482313       |Joy Ride (2001)                                       |\n",
            "|3703   |3     |3.996981        |Road Warrior, The (Mad Max 2) (1981)                  |\n",
            "|3024   |3     |3.9371645       |Piranha (1978)                                        |\n",
            "|5303   |3     |3.8850205       |Joe Versus the Volcano (1990)                         |\n",
            "|6857   |3     |3.8286202       |Ninja Scroll (Jûbei ninpûchô) (1995)                  |\n",
            "|1949   |4     |5.0             |Man for All Seasons, A (1966)                         |\n",
            "|7700   |4     |5.0             |Wages of Fear, The (Salaire de la peur, Le) (1953)    |\n",
            "|1283   |4     |5.0             |High Noon (1952)                                      |\n",
            "|3266   |4     |5.0             |Man Bites Dog (C'est arrivé près de chez vous) (1992) |\n",
            "|1250   |4     |5.0             |Bridge on the River Kwai, The (1957)                  |\n",
            "+-------+------+----------------+------------------------------------------------------+\n",
            "only showing top 20 rows\n",
            "\n"
          ]
        }
      ]
    },
    {
      "cell_type": "markdown",
      "source": [
        "The new recommendation system is significantly better than the previous one because it provides **personalized user-based predictions** rather than generic item-based suggestions. Unlike before, where movies were simply listed without any ranking, this model assigns **numerical predicted ratings**, allowing users to see how strongly a movie is recommended to them. Additionally, by capping ratings at 5, the system ensures more **realistic and interpretable results**, avoiding inflated scores. The inclusion of movie titles alongside ratings further enhances clarity, making the recommendations both **accurate and user-friendly**. Overall, this approach delivers a more **tailored and meaningful movie recommendation experience**."
      ],
      "metadata": {
        "id": "XOmCPb3376W5"
      }
    },
    {
      "cell_type": "markdown",
      "source": [
        "ALS in PySpark"
      ],
      "metadata": {
        "id": "_5dy3dWv4ZLh"
      }
    },
    {
      "cell_type": "code",
      "source": [
        "# Initialize Spark\n",
        "spark = SparkSession.builder.appName(\"MovieRecommender\").getOrCreate()\n",
        "\n",
        "# Convert DataFrame to Spark DataFrame\n",
        "ratings_spark = spark.createDataFrame(df[['userId', 'movieId', 'rating']])\n",
        "\n",
        "# ALS Model\n",
        "als = ALS(maxIter=20, regParam=0.05, rank=100,\n",
        "          userCol=\"userId\", itemCol=\"movieId\", ratingCol=\"rating\",\n",
        "          coldStartStrategy=\"drop\")\n",
        "\n",
        "# Train ALS Model\n",
        "model = als.fit(ratings_spark)\n",
        "\n",
        "# Evaluate using RMSE\n",
        "from pyspark.ml.evaluation import RegressionEvaluator\n",
        "\n",
        "predictions = model.transform(ratings_spark)\n",
        "evaluator = RegressionEvaluator(metricName=\"rmse\", labelCol=\"rating\", predictionCol=\"prediction\")\n",
        "rmse = evaluator.evaluate(predictions)\n",
        "print(\"ALS RMSE:\", rmse)\n"
      ],
      "metadata": {
        "colab": {
          "base_uri": "https://localhost:8080/",
          "height": 0
        },
        "id": "0Xuk2bH90qIO",
        "outputId": "fde57bd9-8289-4845-baa8-88382ac018eb"
      },
      "execution_count": 266,
      "outputs": [
        {
          "output_type": "stream",
          "name": "stdout",
          "text": [
            "ALS RMSE: 0.297449311731419\n"
          ]
        }
      ]
    },
    {
      "cell_type": "markdown",
      "source": [
        "The ALS model (RMSE: 0.2974) performs significantly better than the SVD model (Best RMSE: 0.8423) based on Root Mean Square Error (RMSE). A lower RMSE indicates that the model's predicted ratings are closer to the actual ratings."
      ],
      "metadata": {
        "id": "WkfLBJ191zII"
      }
    }
  ],
  "metadata": {
    "kernelspec": {
      "display_name": "learn-env",
      "language": "python",
      "name": "python3"
    },
    "language_info": {
      "codemirror_mode": {
        "name": "ipython",
        "version": 3
      },
      "file_extension": ".py",
      "mimetype": "text/x-python",
      "name": "python",
      "nbconvert_exporter": "python",
      "pygments_lexer": "ipython3",
      "version": "3.8.5"
    },
    "colab": {
      "provenance": []
    }
  },
  "nbformat": 4,
  "nbformat_minor": 0
}